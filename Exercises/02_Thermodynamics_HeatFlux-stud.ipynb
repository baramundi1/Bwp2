{
 "cells": [
  {
   "cell_type": "code",
   "execution_count": 1,
   "metadata": {},
   "outputs": [
    {
     "data": {
      "text/plain": [
       "3.15576e13"
      ]
     },
     "metadata": {},
     "output_type": "display_data"
    }
   ],
   "source": [
    "using Plots\n",
    "y  = 3600*24*365.25\n",
    "My = 1e6* y"
   ]
  },
  {
   "cell_type": "markdown",
   "metadata": {},
   "source": [
    "### Heating a system\n",
    "\n",
    "Let's recall the first law: $\\frac{\\mathrm{d}u}{\\mathrm{d}t} = \\dot{q}$\n",
    "\n",
    "We now assume that a material with an initial $T$ = 1000 C and materials properties $\\rho$ = 3000 kg/m3, c = 1000 J/kg/K\n",
    "\n",
    "The system is heated at a constant heating rate $\\dot{q}$ = 1e-4 J/m3/s\n",
    "\n",
    "You should model both temperature and internal energy increasing with time. \n",
    "\n",
    "1. Compute the initial internal energy in units J/m3\n",
    "\n",
    "2. In the time loop, update u\n",
    "\n",
    "3. Calculate T\n"
   ]
  },
  {
   "cell_type": "code",
   "execution_count": 2,
   "metadata": {},
   "outputs": [
    {
     "data": {
      "text/plain": [
       "0.0"
      ]
     },
     "metadata": {},
     "output_type": "display_data"
    }
   ],
   "source": [
    "# Physical parameters\n",
    "q̇     = 1e-4  \n",
    "rho   = 3000.0\n",
    "c     = 1000.0\n",
    "T_ini = 1000.0\n",
    "\n",
    "# Numerical parameters\n",
    "Δt  = 1e12\n",
    "nt  = 50\n",
    "t   = 0.0\n",
    "\n",
    "# # Initialise the variables\n",
    "# T      = T_ini\n",
    "# u      = ?????????????????\n",
    "\n",
    "# # Create arrays to store the evolution\n",
    "# T_vec = T*ones(nt)\n",
    "# u_vec = u*ones(nt)\n",
    "# t_vec = t*ones(nt)\n",
    "\n",
    "# # Loop through time to evolve the model\n",
    "# for it=2:nt\n",
    "\n",
    "#     t = t + Δt\n",
    "\n",
    "#     u ?????????????????\n",
    "\n",
    "#     T ?????????????????\n",
    "    \n",
    "#     T_vec[it] = T\n",
    "#     u_vec[it] = u\n",
    "#     t_vec[it] = t\n",
    "\n",
    "# end\n",
    "\n",
    "# # Visualise\n",
    "# p1 = plot(t_vec./My, [T_vec])\n",
    "# p2 = plot(t_vec./My, [u_vec])\n",
    "# plot(p1, p2)"
   ]
  },
  {
   "cell_type": "markdown",
   "metadata": {},
   "source": [
    "### Two systems \n",
    "\n",
    "Two systems of different initial temperature evolve independantly.\n",
    "\n",
    "System 1 receives a heat input rate of +1e-4 J/m3/s.\n",
    "\n",
    "System 2 receives a heat input rate of -1e-4 J/m3/s.\n",
    "\n",
    "Both sytem temperature should evolve, independantly.\n",
    "\n",
    "1. Compute the initial internal energy for each system\n",
    "\n",
    "2. In the time loop, update u  for each system\n",
    "\n",
    "3. Calculate T for each system"
   ]
  },
  {
   "cell_type": "code",
   "execution_count": 3,
   "metadata": {},
   "outputs": [
    {
     "data": {
      "text/plain": [
       "2000.0"
      ]
     },
     "metadata": {},
     "output_type": "display_data"
    }
   ],
   "source": [
    "# Physical parameters\n",
    "q̇      = 1e-4 \n",
    "ρ      = 3000.0\n",
    "c      = 1000.0\n",
    "T1_ini = 1000.0\n",
    "T2_ini = 2000.0\n",
    "\n",
    "# Numerical parameters\n",
    "Δt  = 1e12\n",
    "nt  = 50\n",
    "t   = 0.0\n",
    "\n",
    "# Initialise the variables\n",
    "T1  = T1_ini\n",
    "T2  = T2_ini\n",
    "# u1  = ?????????????????\n",
    "# u2  = ?????????????????\n",
    "\n",
    "# # Create arrays to store the evolution\n",
    "# T1_vec = T1*ones(nt)\n",
    "# T2_vec = T2*ones(nt)\n",
    "# u1_vec = u1*ones(nt)\n",
    "# u2_vec = u2*ones(nt)\n",
    "# t_vec  = t*ones(nt)\n",
    "\n",
    "# # Loop through time to evolve the model\n",
    "# for it=2:nt\n",
    "\n",
    "#     t = t + Δt\n",
    "\n",
    "#     u1 ?????????????????\n",
    "#     u2 ?????????????????\n",
    "\n",
    "#     T1  = ?????????????????\n",
    "#     T2  = ?????????????????\n",
    "    \n",
    "#     T1_vec[it] = T1\n",
    "#     T2_vec[it] = T2\n",
    "#     u1_vec[it] = u1\n",
    "#     u2_vec[it] = u2\n",
    "#     t_vec[it]  = t\n",
    "\n",
    "# end\n",
    "\n",
    "# # Visualise\n",
    "# p1 = plot(t_vec./My, [T1_vec T2_vec])\n",
    "# p2 = plot(t_vec./My, [u1_vec u2_vec])\n",
    "# plot(p1, p2)"
   ]
  },
  {
   "cell_type": "markdown",
   "metadata": {},
   "source": [
    "### Two coupled systems \n",
    "\n",
    "Two systems of different initial temperature evolve in a coupled way.\n",
    "\n",
    "System 1 receives the heat that leaves system 2.\n",
    "\n",
    "The heating rate is expressed as $\\dot{q} = k * (T_1 - T_2)$ where k is the thermal conductance.\n",
    "\n",
    "Both sytem temperature should evolve together, until thermal equilibrium.\n",
    "\n",
    "1. Compute the initial internal energy for each system\n",
    "\n",
    "2. In the time loop, update u  for each system\n",
    "\n",
    "3. Calculate T for each system\n",
    "\n",
    "4. Conservation of energy should hold. The net energy production for both system should be zero. The sum of energies of both system should be constant. Plot the sum of internal energies through time.\n",
    "\n",
    "5. To check the code is correctly implemented, one can use an existing analytical model for this problem. Try plotting it.\n",
    "\n",
    "The equilibrium temperature is $T^\\text{eq} = \\frac{c_1  T_1^\\text{ini} + c_2 T_2^\\text{ini}} {c_1 + c_2}$\n",
    "\n",
    "The initial temperature difference is $\\Delta T^\\text{ini} = T_1^\\text{ini} - T_2^\\text{ini}$\n",
    "\n",
    "For system 1: $T(t) = T^\\text{eq} + \\frac{c_2}{c_1+c_2} \\Delta T^\\text{ini}  \\exp(-\\frac{t}{\\tau})$\n",
    "\n",
    "For system 2: $T(t) = T^\\text{eq} - \\frac{c_1}{c_1+c_2} \\Delta T^\\text{ini}  \\exp(-\\frac{t}{\\tau})$"
   ]
  },
  {
   "cell_type": "code",
   "execution_count": 4,
   "metadata": {},
   "outputs": [
    {
     "data": {
      "text/plain": [
       "2000.0"
      ]
     },
     "metadata": {},
     "output_type": "display_data"
    }
   ],
   "source": [
    "# Physical parameters\n",
    "ρ      = 1000.0\n",
    "c1     = 1000.0\n",
    "c2     = 1000.0\n",
    "T1_ini = 1000.0\n",
    "T2_ini = 2000.0\n",
    "k      = 1e-7\n",
    "\n",
    "# Numerical parameters\n",
    "Δt  = 1e12\n",
    "nt  = 50\n",
    "t   = 0.0\n",
    "\n",
    "# Initialise the variables\n",
    "T1  = T1_ini\n",
    "T2  = T2_ini\n",
    "# u1  = ?????????????????\n",
    "# u2  = ?????????????????\n",
    "\n",
    "# # Create arrays to store the evolution\n",
    "# T1_vec = T1*ones(nt)\n",
    "# T2_vec = T2*ones(nt)\n",
    "# u1_vec = u1*ones(nt)\n",
    "# u2_vec = u2*ones(nt)\n",
    "# t_vec  =  t*ones(nt)\n",
    "\n",
    "# # Loop through time to evolve the model\n",
    "# for it=2:nt\n",
    "\n",
    "#     t = t + Δt\n",
    "\n",
    "#     q̇  = k * (T1 - T2) \n",
    "\n",
    "#     u1 ?????????????????\n",
    "#     u2 ?????????????????\n",
    "\n",
    "#     T1 ?????????????????\n",
    "#     T2 ?????????????????\n",
    "\n",
    "#     T1_vec[it] = T1\n",
    "#     T2_vec[it] = T2\n",
    "#     u1_vec[it] = u1\n",
    "#     u2_vec[it] = u2\n",
    "#     t_vec[it]  = t\n",
    "# end\n",
    "\n",
    "# # Equilibrium temperature\n",
    "# Teq = (c1 * T1_ini + c2 * T2_ini) / (c1 + c2)\n",
    "# ΔT0 = T1_ini - T2_ini\n",
    "# τ   = (c1 * c2) / (k / ρ * (c1 + c2))\n",
    "\n",
    "# # Define T1(t) and T2(t) analytically\n",
    "# T1_analytical = ?????????????????\n",
    "# T2_analytical = ?????????????????\n",
    "\n",
    "# # Visualise\n",
    "# p1 = plot()\n",
    "# p1 = plot!(t_vec./My, [T1_vec T2_vec])\n",
    "# p1 = scatter!(t_vec./My, [T1_analytical T2_analytical])\n",
    "# p2 = plot(t_vec./My, [u1_vec u2_vec u1_vec.+u2_vec])\n",
    "# plot(p1, p2)\n"
   ]
  }
 ],
 "metadata": {
  "kernelspec": {
   "display_name": "Julia 1.11.4",
   "language": "julia",
   "name": "julia-1.11"
  },
  "language_info": {
   "file_extension": ".jl",
   "mimetype": "application/julia",
   "name": "julia",
   "version": "1.11.4"
  }
 },
 "nbformat": 4,
 "nbformat_minor": 2
}

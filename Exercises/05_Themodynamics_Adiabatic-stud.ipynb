{
 "cells": [
  {
   "cell_type": "code",
   "execution_count": 1,
   "metadata": {},
   "outputs": [
    {
     "data": {
      "text/plain": [
       "3153600000"
      ]
     },
     "metadata": {},
     "output_type": "display_data"
    }
   ],
   "source": [
    "using Plots\n",
    "y   = 365*24*3600\n",
    "My  = 1e6*y\n",
    "cmy = 100*y"
   ]
  },
  {
   "cell_type": "markdown",
   "metadata": {},
   "source": [
    "### Adiabatic heating and cooling during convection\n",
    "\n",
    "Assume mantle convection over millions of years.\n",
    "The position of a mantle parcel may be described by the following equation:\n",
    "$$\n",
    "z(t) = z_\\text{ref} \\left( 1 + \\cos{\\left(\\frac{2 \\pi t} {t_\\text{tot}}\\right)}  \\right) \n",
    "$$\n",
    "with $ z_\\text{ref} = -330$ km and $t = 1$ Gy.\n",
    "\n",
    "An equation of state for a rock may be expressed as:\n",
    "$$\n",
    "\\rho = \\rho_\\text{ref} \\exp{\\left( \\beta P - \\alpha T\\right)}\n",
    "$$\n",
    "where $\\rho_\\text{ref} = 3500$ kg/m3, $\\beta = 8 \\times 10^{-12}$ 1/Pa and $\\alpha = 3 \\times 10^{-5}$ 1/K.    \n",
    "\n",
    "The pressure will be assumed lithostatic such that $P = \\rho g z$.\n",
    "\n",
    "During the isentropic processes the variation of temperature relative to pressure is expressed as:\n",
    "$$\n",
    "\\frac{\\mathrm{d} T}{\\mathrm{d} P} = \\frac{\\alpha T}{\\rho c_P}\n",
    "$$\n",
    "using the chain rule one may express: $\\frac{\\mathrm{d} T}{\\mathrm{d} P} = \\frac{\\mathrm{d} T}{\\mathrm{d} t} \\frac{\\mathrm{d} t}{\\mathrm{d} P}$\n",
    "and substitution leads to:\n",
    "$$\n",
    "\\frac{\\mathrm{d} T}{\\mathrm{d} t} = \\frac{\\alpha T}{\\rho c_P}\\frac{\\mathrm{d} P}{\\mathrm{d} t}\n",
    "$$\n",
    "This expression is generally non linear and to solve for it, we form the residual:\n",
    "$$\n",
    "r = \\frac{\\mathrm{d} T}{\\mathrm{d} t} - \\frac{\\alpha T}{\\rho c_P}\\frac{\\mathrm{d} P}{\\mathrm{d} t}\n",
    "$$\n",
    "we will find the temperature $T$ that satisfy $r = 0$ in an iterative fashion. \n",
    "\n",
    "1. Enter the expression and plot the position over time. Make sure units are converted to meter and seconds.\n",
    "\n",
    "2. Enter the expression for the calculation of density as function of $T$ and $P$.\n",
    "\n",
    "3. Define P using lithostatic formula.\n",
    "\n",
    "4. Define temperature and pressure rates using a numerical derivative.\n",
    "\n",
    "5. Express the residual $r$ and run the code."
   ]
  },
  {
   "cell_type": "code",
   "execution_count": 2,
   "metadata": {},
   "outputs": [
    {
     "data": {
      "text/plain": [
       "3.1536e13"
      ]
     },
     "metadata": {},
     "output_type": "display_data"
    }
   ],
   "source": [
    "    # Physics\n",
    "    g     = -9.81    # gravitiational acceleration\n",
    "    ρ_ref = 3500.0   # reference density\n",
    "    cp    = 1000.0   # heat capactity\n",
    "    α     = 3e-5     # expansivity\n",
    "    β     = 8e-12    # incompressibility (1/K_T)\n",
    "    T     = 1700.0   # initial T\n",
    "    t_tot = 1e3*My\n",
    "\n",
    "    # Numerics\n",
    "    nt    = 1000\n",
    "    t     = LinRange(0, t_tot, nt)\n",
    "    Δt    = t_tot/nt\n",
    "    \n",
    "    # # Position\n",
    "    # z_vec    = ...\n",
    "\n",
    "    # # Arrays\n",
    "    # T_vec    = T*ones(nt)\n",
    "    # P_vec    = zeros(nt)\n",
    "    # ρ_vec    = zeros(nt)\n",
    "    \n",
    "    # # Calculate rho initial (non-linear)\n",
    "    # ρ = ρ_ref\n",
    "    # P = ρ*g*z_vec[1]\n",
    "    # for it=1:10\n",
    "    #     P    = ρ*g*z_vec[1]\n",
    "    #     ρ    = ...\n",
    "    # end\n",
    "    \n",
    "    # # Time loop\n",
    "    # for it=2:nt\n",
    "\n",
    "    #     # Save previous values\n",
    "    #     P0   = P\n",
    "    #     T0   = T\n",
    "    \n",
    "    #     # This iteration loop will be used to set entropy rate (dsdt) to 0\n",
    "    #     for iter=1:50\n",
    "    \n",
    "    #         # Density\n",
    "    #         ρ     = ...\n",
    "\n",
    "    #         # Pressure\n",
    "    #         P     = ...\n",
    "\n",
    "    #         # Pressure rate\n",
    "    #         dPdt  = ...\n",
    "\n",
    "    #         # Temperature rate\n",
    "    #         dTdt  = ...\n",
    "\n",
    "    #         # Formulate a residual equation\n",
    "    #         r     = ...\n",
    "             \n",
    "    #         # Update temperature (use residual to get closer to solution)\n",
    "    #         T     -= 1e13*r\n",
    "    #     end\n",
    "        \n",
    "    #     # Log\n",
    "    #     T_vec[it] = T\n",
    "    #     ρ_vec[it] = ρ\n",
    "    #     P_vec[it] = P\n",
    "    # end\n",
    "            \n",
    "    # p1    = plot(t[2:end]/My, z_vec[2:end]./1e3, label=\"z\", xlabel=\"t [My]\" )\n",
    "    # p2    = plot(t[2:end]/My, P_vec[2:end]/1e9, label=\"P\", xlabel=\"t [My]\" )\n",
    "    # p3    = plot(t[2:end]/My, T_vec[2:end], label=\"T\", xlabel=\"t [My]\" )\n",
    "    # p4    = plot(t[2:end]/My, ρ_vec[2:end], label=\"rho\", xlabel=\"t [My]\" )\n",
    "    # plot(p1, p2, p3, p4, layout=(2,2))"
   ]
  },
  {
   "cell_type": "markdown",
   "metadata": {},
   "source": [
    "### Compare to known estimations\n",
    "\n",
    "Adiabatic heating in mantle convection typically gives rise to a thermal gradient ($\\frac{\\partial T}{\\partial z}$) ranging between -0.6 and -0.2 K/km. \n",
    "\n",
    "T varies linearly with depth as:\n",
    "$$\n",
    "T(z) = T_0 + \\frac{\\partial T}{\\partial z} (z - z_0)\n",
    "$$\n",
    "here $z_0 = -660$ km.\n",
    "\n",
    "1. Create an axis `z` ranging between -600 and 0 km (use meters).\n",
    "\n",
    "2. Evalaute the temperature profile with depth using the minimum estimate of the gradient.\n",
    "\n",
    "3. Evalaute the temperature profile with depth using the maximum estimate of the gradient.\n",
    "\n",
    "4. Plot them together.\n",
    "\n",
    "5. Add the data points corresponding to the simulation of adiabatic heating (exercise above).\n",
    "\n",
    "3. Comment on the obtained result."
   ]
  },
  {
   "cell_type": "code",
   "execution_count": 3,
   "metadata": {},
   "outputs": [
    {
     "data": {
      "text/plain": [
       "1700.0"
      ]
     },
     "metadata": {},
     "output_type": "display_data"
    }
   ],
   "source": [
    "T0          = 1700.0 \n",
    "# z           = ...\n",
    "# dTdz        = ...\n",
    "# T_adiab_min = ...\n",
    "# dTdz        = ...\n",
    "# T_adiab_max = ...\n",
    "# plot( [T_adiab_min T_adiab_max], z./1e3, xlabel=\"T [K]\", ylabel=\"z [km]\", label=[\"0.2 K/km\" \"0.6 K/km\"] )\n",
    "# plot!(...)"
   ]
  }
 ],
 "metadata": {
  "kernelspec": {
   "display_name": "Julia 1.11.4",
   "language": "julia",
   "name": "julia-1.11"
  },
  "language_info": {
   "file_extension": ".jl",
   "mimetype": "application/julia",
   "name": "julia",
   "version": "1.11.4"
  }
 },
 "nbformat": 4,
 "nbformat_minor": 2
}
